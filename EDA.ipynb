{
 "cells": [
  {
   "cell_type": "code",
   "execution_count": 131,
   "metadata": {},
   "outputs": [],
   "source": [
    "import pandas as pd\n",
    "from sklearn.model_selection import train_test_split "
   ]
  },
  {
   "cell_type": "code",
   "execution_count": 132,
   "metadata": {},
   "outputs": [
    {
     "data": {
      "text/plain": [
       "\"\\nData Cleaning:\\nLevy - Many values use '-' which should be replaced with the mean or median value of the numerical values of the column\\nMileage - Remove km and make it numerical \\nEngine Volume - Is not numeric and contains strings 'Turbo'\\nDoors has following values and must be changed to 2, 4, or 6 (ordinal scale)\\n\\n04-May    18332\\n02-Mar      777\\n>5          128\\n\""
      ]
     },
     "execution_count": 132,
     "metadata": {},
     "output_type": "execute_result"
    }
   ],
   "source": [
    "data = pd.read_csv('car-data/car_price_prediction.csv')\n",
    "\n",
    "data.head(10)\n",
    "\n",
    "'''\n",
    "Data Cleaning:\n",
    "Levy - Many values use '-' which should be replaced with the mean or median value of the numerical values of the column\n",
    "Mileage - Remove km and make it numerical \n",
    "Engine Volume - Is not numeric and contains strings 'Turbo'\n",
    "Doors has following values and must be changed to 2, 4, or 6 (ordinal scale)\n",
    "\n",
    "04-May    18332\n",
    "02-Mar      777\n",
    ">5          128\n",
    "'''"
   ]
  },
  {
   "cell_type": "code",
   "execution_count": 133,
   "metadata": {},
   "outputs": [
    {
     "data": {
      "text/plain": [
       "Manufacturer\n",
       "HYUNDAI          3769\n",
       "TOYOTA           3662\n",
       "MERCEDES-BENZ    2076\n",
       "FORD             1111\n",
       "CHEVROLET        1069\n",
       "                 ... \n",
       "TESLA               1\n",
       "PONTIAC             1\n",
       "SATURN              1\n",
       "ASTON MARTIN        1\n",
       "GREATWALL           1\n",
       "Name: count, Length: 65, dtype: int64"
      ]
     },
     "execution_count": 133,
     "metadata": {},
     "output_type": "execute_result"
    }
   ],
   "source": [
    "data['Manufacturer'].value_counts()"
   ]
  },
  {
   "cell_type": "code",
   "execution_count": 134,
   "metadata": {},
   "outputs": [],
   "source": [
    "def preprocess(data: pd.DataFrame):\n",
    "   # Levy has many missing values\n",
    "   data['Levy'] = pd.to_numeric(data['Levy'], errors='coerce')\n",
    "   levy_mean_val = data['Levy'].mean()\n",
    "   data['Levy'].fillna(levy_mean_val, inplace=True)\n",
    "   \n",
    "   # Mileage\n",
    "   data['Mileage'] = pd.to_numeric((data['Mileage']).astype(str).str.replace(' km', '', regex=True), errors='coerce')\n",
    "\n",
    "   # Doors\n",
    "   data['Doors'] = data['Doors'].astype(str).str.extract(r'(\\d+)', expand=False).astype(int).map({4: 4, 2: 2, 5: 6})  # Map values\n",
    "\n",
    "   # Engine Volume\n",
    "   data['Engine volume'] = pd.to_numeric(data['Engine volume'].astype(str).str.replace(' Trubo', '', regex=True), errors='coerce')\n",
    "\n",
    "   #OHE Categorical Data\n",
    "   data = pd.get_dummies(data, columns=['Manufacturer', 'Model', 'Category', 'Leather interior', 'Fuel type', 'Gear box type', 'Drive wheels', 'Wheel', 'Color'])\n",
    "   \n",
    "   # Split data \n",
    "   train, test = train_test_split(data, test_size=0.2, random_state=123)\n",
    "   y_train = train.pop('Price')\n",
    "   X_train = train\n",
    "   y_test = test.pop('Price')\n",
    "   X_test = test\n",
    "\n",
    "   return X_train, y_train, X_test, y_test\n",
    "\n",
    "\n",
    "X_train, y_train, X_test, y_test = preprocess(data)"
   ]
  },
  {
   "cell_type": "code",
   "execution_count": 135,
   "metadata": {},
   "outputs": [
    {
     "data": {
      "text/html": [
       "<div>\n",
       "<style scoped>\n",
       "    .dataframe tbody tr th:only-of-type {\n",
       "        vertical-align: middle;\n",
       "    }\n",
       "\n",
       "    .dataframe tbody tr th {\n",
       "        vertical-align: top;\n",
       "    }\n",
       "\n",
       "    .dataframe thead th {\n",
       "        text-align: right;\n",
       "    }\n",
       "</style>\n",
       "<table border=\"1\" class=\"dataframe\">\n",
       "  <thead>\n",
       "    <tr style=\"text-align: right;\">\n",
       "      <th></th>\n",
       "      <th>ID</th>\n",
       "      <th>Levy</th>\n",
       "      <th>Prod. year</th>\n",
       "      <th>Engine volume</th>\n",
       "      <th>Mileage</th>\n",
       "      <th>Cylinders</th>\n",
       "      <th>Doors</th>\n",
       "      <th>Airbags</th>\n",
       "      <th>Manufacturer_ACURA</th>\n",
       "      <th>Manufacturer_ALFA ROMEO</th>\n",
       "      <th>...</th>\n",
       "      <th>Color_Green</th>\n",
       "      <th>Color_Grey</th>\n",
       "      <th>Color_Orange</th>\n",
       "      <th>Color_Pink</th>\n",
       "      <th>Color_Purple</th>\n",
       "      <th>Color_Red</th>\n",
       "      <th>Color_Silver</th>\n",
       "      <th>Color_Sky blue</th>\n",
       "      <th>Color_White</th>\n",
       "      <th>Color_Yellow</th>\n",
       "    </tr>\n",
       "  </thead>\n",
       "  <tbody>\n",
       "    <tr>\n",
       "      <th>3292</th>\n",
       "      <td>45770574</td>\n",
       "      <td>528.0</td>\n",
       "      <td>2014</td>\n",
       "      <td>1.6</td>\n",
       "      <td>100800</td>\n",
       "      <td>4.0</td>\n",
       "      <td>4</td>\n",
       "      <td>12</td>\n",
       "      <td>False</td>\n",
       "      <td>False</td>\n",
       "      <td>...</td>\n",
       "      <td>False</td>\n",
       "      <td>False</td>\n",
       "      <td>False</td>\n",
       "      <td>False</td>\n",
       "      <td>False</td>\n",
       "      <td>False</td>\n",
       "      <td>False</td>\n",
       "      <td>False</td>\n",
       "      <td>True</td>\n",
       "      <td>False</td>\n",
       "    </tr>\n",
       "    <tr>\n",
       "      <th>6169</th>\n",
       "      <td>45810912</td>\n",
       "      <td>579.0</td>\n",
       "      <td>2017</td>\n",
       "      <td>2.5</td>\n",
       "      <td>88336</td>\n",
       "      <td>4.0</td>\n",
       "      <td>4</td>\n",
       "      <td>12</td>\n",
       "      <td>False</td>\n",
       "      <td>False</td>\n",
       "      <td>...</td>\n",
       "      <td>False</td>\n",
       "      <td>False</td>\n",
       "      <td>False</td>\n",
       "      <td>False</td>\n",
       "      <td>False</td>\n",
       "      <td>False</td>\n",
       "      <td>False</td>\n",
       "      <td>False</td>\n",
       "      <td>True</td>\n",
       "      <td>False</td>\n",
       "    </tr>\n",
       "    <tr>\n",
       "      <th>16835</th>\n",
       "      <td>45642802</td>\n",
       "      <td>490.0</td>\n",
       "      <td>2011</td>\n",
       "      <td>1.3</td>\n",
       "      <td>198891</td>\n",
       "      <td>4.0</td>\n",
       "      <td>4</td>\n",
       "      <td>0</td>\n",
       "      <td>False</td>\n",
       "      <td>False</td>\n",
       "      <td>...</td>\n",
       "      <td>False</td>\n",
       "      <td>True</td>\n",
       "      <td>False</td>\n",
       "      <td>False</td>\n",
       "      <td>False</td>\n",
       "      <td>False</td>\n",
       "      <td>False</td>\n",
       "      <td>False</td>\n",
       "      <td>False</td>\n",
       "      <td>False</td>\n",
       "    </tr>\n",
       "    <tr>\n",
       "      <th>9829</th>\n",
       "      <td>45804398</td>\n",
       "      <td>1017.0</td>\n",
       "      <td>2017</td>\n",
       "      <td>2.0</td>\n",
       "      <td>79877</td>\n",
       "      <td>4.0</td>\n",
       "      <td>4</td>\n",
       "      <td>4</td>\n",
       "      <td>False</td>\n",
       "      <td>False</td>\n",
       "      <td>...</td>\n",
       "      <td>False</td>\n",
       "      <td>False</td>\n",
       "      <td>False</td>\n",
       "      <td>False</td>\n",
       "      <td>False</td>\n",
       "      <td>False</td>\n",
       "      <td>False</td>\n",
       "      <td>False</td>\n",
       "      <td>False</td>\n",
       "      <td>False</td>\n",
       "    </tr>\n",
       "    <tr>\n",
       "      <th>7209</th>\n",
       "      <td>45814951</td>\n",
       "      <td>765.0</td>\n",
       "      <td>2015</td>\n",
       "      <td>2.0</td>\n",
       "      <td>118848</td>\n",
       "      <td>4.0</td>\n",
       "      <td>4</td>\n",
       "      <td>12</td>\n",
       "      <td>False</td>\n",
       "      <td>False</td>\n",
       "      <td>...</td>\n",
       "      <td>False</td>\n",
       "      <td>False</td>\n",
       "      <td>False</td>\n",
       "      <td>False</td>\n",
       "      <td>False</td>\n",
       "      <td>True</td>\n",
       "      <td>False</td>\n",
       "      <td>False</td>\n",
       "      <td>False</td>\n",
       "      <td>False</td>\n",
       "    </tr>\n",
       "  </tbody>\n",
       "</table>\n",
       "<p>5 rows × 1708 columns</p>\n",
       "</div>"
      ],
      "text/plain": [
       "             ID    Levy  Prod. year  Engine volume  Mileage  Cylinders  Doors  \\\n",
       "3292   45770574   528.0        2014            1.6   100800        4.0      4   \n",
       "6169   45810912   579.0        2017            2.5    88336        4.0      4   \n",
       "16835  45642802   490.0        2011            1.3   198891        4.0      4   \n",
       "9829   45804398  1017.0        2017            2.0    79877        4.0      4   \n",
       "7209   45814951   765.0        2015            2.0   118848        4.0      4   \n",
       "\n",
       "       Airbags  Manufacturer_ACURA  Manufacturer_ALFA ROMEO  ...  Color_Green  \\\n",
       "3292        12               False                    False  ...        False   \n",
       "6169        12               False                    False  ...        False   \n",
       "16835        0               False                    False  ...        False   \n",
       "9829         4               False                    False  ...        False   \n",
       "7209        12               False                    False  ...        False   \n",
       "\n",
       "       Color_Grey  Color_Orange  Color_Pink  Color_Purple  Color_Red  \\\n",
       "3292        False         False       False         False      False   \n",
       "6169        False         False       False         False      False   \n",
       "16835        True         False       False         False      False   \n",
       "9829        False         False       False         False      False   \n",
       "7209        False         False       False         False       True   \n",
       "\n",
       "       Color_Silver  Color_Sky blue  Color_White  Color_Yellow  \n",
       "3292          False           False         True         False  \n",
       "6169          False           False         True         False  \n",
       "16835         False           False        False         False  \n",
       "9829          False           False        False         False  \n",
       "7209          False           False        False         False  \n",
       "\n",
       "[5 rows x 1708 columns]"
      ]
     },
     "execution_count": 135,
     "metadata": {},
     "output_type": "execute_result"
    }
   ],
   "source": [
    "X_train.head(5)"
   ]
  },
  {
   "cell_type": "code",
   "execution_count": 136,
   "metadata": {},
   "outputs": [
    {
     "data": {
      "text/plain": [
       "ID                  int64\n",
       "Levy              float64\n",
       "Prod. year          int64\n",
       "Engine volume     float64\n",
       "Mileage             int64\n",
       "                   ...   \n",
       "Color_Red            bool\n",
       "Color_Silver         bool\n",
       "Color_Sky blue       bool\n",
       "Color_White          bool\n",
       "Color_Yellow         bool\n",
       "Length: 1708, dtype: object"
      ]
     },
     "execution_count": 136,
     "metadata": {},
     "output_type": "execute_result"
    }
   ],
   "source": [
    "X_train.dtypes"
   ]
  },
  {
   "cell_type": "code",
   "execution_count": null,
   "metadata": {},
   "outputs": [
    {
     "data": {
      "text/plain": [
       "' Data is cleaned'"
      ]
     },
     "execution_count": 137,
     "metadata": {},
     "output_type": "execute_result"
    }
   ],
   "source": [
    "''' Data is cleaned and prepped'''"
   ]
  },
  {
   "cell_type": "code",
   "execution_count": null,
   "metadata": {},
   "outputs": [],
   "source": []
  }
 ],
 "metadata": {
  "kernelspec": {
   "display_name": "Python 3",
   "language": "python",
   "name": "python3"
  },
  "language_info": {
   "codemirror_mode": {
    "name": "ipython",
    "version": 3
   },
   "file_extension": ".py",
   "mimetype": "text/x-python",
   "name": "python",
   "nbconvert_exporter": "python",
   "pygments_lexer": "ipython3",
   "version": "3.12.1"
  }
 },
 "nbformat": 4,
 "nbformat_minor": 2
}
